{
 "cells": [
  {
   "cell_type": "code",
   "execution_count": 7,
   "metadata": {},
   "outputs": [],
   "source": [
    "import re"
   ]
  },
  {
   "cell_type": "code",
   "execution_count": 12,
   "metadata": {},
   "outputs": [
    {
     "name": "stdout",
     "output_type": "stream",
     "text": [
      "# Danh sách người dùng\n",
      "1. Họ và tên: Nguyễn Văn A\n",
      "   Email: nguyenvana@example.com\n",
      "   SĐT: 0987-654-321\n",
      "   Địa chỉ: 123 Đường ABC, Quận 1, TP.HCM\n",
      "\n",
      "2. Họ và tên: Trần Thị B\n",
      "   Email: tranthib@example.net\n",
      "   SĐT: (024) 1234 5678\n",
      "   Địa chỉ: 456 Đường XYZ, Quận 2, Hà Nội\n",
      "\n",
      "3. Họ và tên: Lê Văn C\n",
      "   Email: levanc@example.org\n",
      "   SĐT: 0912.345.678\n",
      "   Địa chỉ: 789 Đường MNO, Quận 3, Đà Nẵng\n",
      "\n",
      "# Danh sách nhân viên công ty ABC\n",
      "4. Nguyễn Đình D | nguyendinhd@abc.com | 0777-888-999 | 12 Nguyễn Huệ, TP.HCM\n",
      "5. Phạm Xuân E | phamxuane@abc.com | 0355.123.456 | 45 Trần Phú, Hà Nội\n",
      "\n"
     ]
    }
   ],
   "source": [
    "with open(\"regex_content_example.txt\", \"r\", encoding=\"utf-8\") as file:\n",
    "    content = file.read()\n",
    "\n",
    "print(content)"
   ]
  },
  {
   "cell_type": "markdown",
   "metadata": {},
   "source": [
    "### Danh sách email"
   ]
  },
  {
   "cell_type": "code",
   "execution_count": 13,
   "metadata": {},
   "outputs": [
    {
     "name": "stdout",
     "output_type": "stream",
     "text": [
      "['nguyenvana@example.com', 'tranthib@example.net', 'levanc@example.org', 'nguyendinhd@abc.com', 'phamxuane@abc.com']\n"
     ]
    }
   ],
   "source": [
    "emails = re.findall(r\"[a-zA-Z0-9._%+-]+@[a-zA-Z0-9.-]+\\.[a-zA-Z]{2,}\", content)\n",
    "print(emails)"
   ]
  },
  {
   "cell_type": "markdown",
   "metadata": {},
   "source": [
    "### Danh sách SĐT"
   ]
  },
  {
   "cell_type": "code",
   "execution_count": 27,
   "metadata": {},
   "outputs": [
    {
     "name": "stdout",
     "output_type": "stream",
     "text": [
      "['0987654321', '02412345678', '0912345678', '0777888999', '0355123456']\n"
     ]
    }
   ],
   "source": [
    "# Regex tìm số điện thoại\n",
    "phone_pattern = r\"\"\"\n",
    "    (?:\\+84|0)?        # Mã quốc gia (+84) hoặc số 0 đầu (tùy chọn)\n",
    "    [\\s\\-.]?           # Ký tự ngăn cách (tùy chọn)\n",
    "    \\(?\\d{2,4}\\)?      # Mã vùng (2-4 chữ số), có thể có dấu ngoặc đơn\n",
    "    [\\s\\-.]?           # Ký tự ngăn cách (tùy chọn)\n",
    "    \\d{3,4}            # Cụm số đầu tiên (3-4 chữ số)\n",
    "    [\\s\\-.]?           # Ký tự ngăn cách (tùy chọn)\n",
    "    \\d{3,4}            # Cụm số thứ hai (3-4 chữ số)\n",
    "    (?:[\\s\\-.]?\\d{3,4})? # Cụm số thứ ba (tùy chọn, cho số điện thoại dài hơn)\n",
    "\"\"\"\n",
    "\n",
    "# Tìm tất cả số điện thoại\n",
    "phone_numbers = [match.group() for match in re.finditer(phone_pattern, content, re.VERBOSE)]\n",
    "\n",
    "# Chuẩn hóa số điện thoại\n",
    "formatted_numbers = [re.sub(r\"[^\\d]\", \"\", num) for num in phone_numbers]\n",
    "\n",
    "print(formatted_numbers)"
   ]
  }
 ],
 "metadata": {
  "kernelspec": {
   "display_name": ".venv",
   "language": "python",
   "name": "python3"
  },
  "language_info": {
   "codemirror_mode": {
    "name": "ipython",
    "version": 3
   },
   "file_extension": ".py",
   "mimetype": "text/x-python",
   "name": "python",
   "nbconvert_exporter": "python",
   "pygments_lexer": "ipython3",
   "version": "3.12.8"
  }
 },
 "nbformat": 4,
 "nbformat_minor": 2
}
