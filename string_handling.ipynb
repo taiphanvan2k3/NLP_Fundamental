{
 "cells": [
  {
   "cell_type": "code",
   "execution_count": 1,
   "metadata": {},
   "outputs": [],
   "source": [
    "import re"
   ]
  },
  {
   "cell_type": "code",
   "execution_count": 2,
   "metadata": {},
   "outputs": [],
   "source": [
    "data = \"\"\"\n",
    "1. Nguyễn Văn A | nv.a@company.com |  0987-654-321  | Lập trình viên  | Lương: 20,000,000 VND\n",
    "2. Trần Thị B | tranb@company.com | (024) 1234 5678 | Quản lý dự án   | Lương: 35,500,000 VND\n",
    "3. Lê Văn C | lvanc@company.com | 0912.345.678 | Nhân viên hỗ trợ | Lương: 15,250,000 VND\n",
    "4. Phạm Xuân D | pxd@company.com | 0777-888-999 | Lập trình viên   | Lương: 22,750,000 VND\n",
    "\"\"\""
   ]
  },
  {
   "cell_type": "code",
   "execution_count": 3,
   "metadata": {},
   "outputs": [
    {
     "name": "stdout",
     "output_type": "stream",
     "text": [
      "1. Nguyễn Văn A | nv.a@company.com |  0987-654-321  | Lập trình viên  | Lương: 20,000,000 VND\n",
      "\n",
      "2. Trần Thị B | tranb@company.com | (024) 1234 5678 | Quản lý dự án   | Lương: 35,500,000 VND\n",
      "\n",
      "3. Lê Văn C | lvanc@company.com | 0912.345.678 | Nhân viên hỗ trợ | Lương: 15,250,000 VND\n",
      "\n",
      "4. Phạm Xuân D | pxd@company.com | 0777-888-999 | Lập trình viên   | Lương: 22,750,000 VND\n",
      "\n"
     ]
    }
   ],
   "source": [
    "lines = [line.strip() for line in data.strip().split(\"\\n\")]\n",
    "\n",
    "for line in lines:\n",
    "    print(line + \"\\n\")"
   ]
  },
  {
   "cell_type": "code",
   "execution_count": 4,
   "metadata": {},
   "outputs": [],
   "source": [
    "employees = []"
   ]
  },
  {
   "cell_type": "code",
   "execution_count": 5,
   "metadata": {},
   "outputs": [],
   "source": [
    "for line in lines:\n",
    "    parts = [p.strip() for p in line.split(\"|\")]\n",
    "\n",
    "    if len(parts) != 5:\n",
    "        continue  # Bỏ qua dòng không đúng định dạng\n",
    "\n",
    "    name, email, phone, position, salary_str = parts\n",
    "\n",
    "    # Replace số trước name\n",
    "    name = re.sub(r\"^\\d+\\.\\s*\", \"\", name)\n",
    "\n",
    "    # 3. Chuẩn hóa số điện thoại về dạng 0XXXXXXXXX\n",
    "    phone = re.sub(r\"[^\\d]\", \"\", phone)  # Loại bỏ tất cả ký tự không phải số\n",
    "    if len(phone) == 10:  # Đã có đúng 10 số\n",
    "        phone_number = phone\n",
    "    elif len(phone) > 10:  # Nếu có mã vùng, lấy phần cuối 10 số\n",
    "        phone_number = \"0\" + phone[-9:]\n",
    "    else:\n",
    "        phone_number = phone\n",
    "\n",
    "    # 4. Chuẩn hóa mức lương thành số nguyên\n",
    "    salary = int(re.sub(r\"[^\\d]\", \"\", salary_str))  # Loại bỏ dấu phẩy và chữ \"VND\"\n",
    "\n",
    "    # Lưu vào danh sách\n",
    "    employees.append(\n",
    "        {\n",
    "            \"name\": name,\n",
    "            \"email\": email,\n",
    "            \"phone\": phone_number,\n",
    "            \"position\": position,\n",
    "            \"salary\": salary,\n",
    "        }\n",
    "    )"
   ]
  },
  {
   "cell_type": "code",
   "execution_count": 6,
   "metadata": {},
   "outputs": [
    {
     "data": {
      "text/plain": [
       "[{'name': 'Nguyễn Văn A',\n",
       "  'email': 'nv.a@company.com',\n",
       "  'phone': '0987654321',\n",
       "  'position': 'Lập trình viên',\n",
       "  'salary': 20000000},\n",
       " {'name': 'Trần Thị B',\n",
       "  'email': 'tranb@company.com',\n",
       "  'phone': '0412345678',\n",
       "  'position': 'Quản lý dự án',\n",
       "  'salary': 35500000},\n",
       " {'name': 'Lê Văn C',\n",
       "  'email': 'lvanc@company.com',\n",
       "  'phone': '0912345678',\n",
       "  'position': 'Nhân viên hỗ trợ',\n",
       "  'salary': 15250000},\n",
       " {'name': 'Phạm Xuân D',\n",
       "  'email': 'pxd@company.com',\n",
       "  'phone': '0777888999',\n",
       "  'position': 'Lập trình viên',\n",
       "  'salary': 22750000}]"
      ]
     },
     "execution_count": 6,
     "metadata": {},
     "output_type": "execute_result"
    }
   ],
   "source": [
    "employees"
   ]
  }
 ],
 "metadata": {
  "kernelspec": {
   "display_name": ".venv",
   "language": "python",
   "name": "python3"
  },
  "language_info": {
   "codemirror_mode": {
    "name": "ipython",
    "version": 3
   },
   "file_extension": ".py",
   "mimetype": "text/x-python",
   "name": "python",
   "nbconvert_exporter": "python",
   "pygments_lexer": "ipython3",
   "version": "3.12.8"
  }
 },
 "nbformat": 4,
 "nbformat_minor": 2
}
