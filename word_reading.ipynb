{
 "cells": [
  {
   "cell_type": "code",
   "execution_count": null,
   "metadata": {},
   "outputs": [],
   "source": [
    "%pip install python-docx"
   ]
  },
  {
   "cell_type": "code",
   "execution_count": 1,
   "metadata": {},
   "outputs": [],
   "source": [
    "from docx import Document"
   ]
  },
  {
   "cell_type": "code",
   "execution_count": 2,
   "metadata": {},
   "outputs": [],
   "source": [
    "doc = open('word_document.docx', 'rb')\n",
    "document = Document(doc)"
   ]
  },
  {
   "cell_type": "code",
   "execution_count": 7,
   "metadata": {},
   "outputs": [
    {
     "name": "stdout",
     "output_type": "stream",
     "text": [
      "Nguồn: GPT\n",
      "Nhật ký của một lập trình viên\n",
      "\n",
      "Hôm nay là một ngày tuyệt vời! Tôi vừa khám phá ra cách tạo file DOCX bằng Python. Ai mà ngờ được chỉ với vài dòng code, tôi có thể trở thành một nhà văn (ít nhất là trên máy tính của tôi 😆).\n",
      "\n",
      "Dưới đây là danh sách những điều tôi yêu thích khi code:\n",
      "- Khi code chạy ngay từ lần đầu tiên (hiếm lắm!)\n",
      "- Khi tìm ra bug sau 3 tiếng debugging\n",
      "- Khi uống cà phê và nhìn code tự chạy (do có AI trợ giúp)\n",
      "\n",
      "Nhưng cũng có những điều khiến tôi đau đầu:\n",
      "- Lỗi xuất hiện mà không có lỗi (vâng, nó chỉ không chạy thôi)\n",
      "- Debugging một đoạn code mà chính mình viết cách đây 1 tuần và cảm thấy nó như do người ngoài hành tinh viết\n",
      "- Khi khách hàng bảo \"sửa tí thôi\" nhưng lại muốn thay đổi cả hệ thống\n",
      "\n",
      "Dù sao thì, code vẫn là đam mê, và tôi sẽ tiếp tục viết những dòng code đẹp đẽ, miễn là chúng không có bug! 🚀\n",
      "\n",
      "Ký tên,\n",
      "Một lập trình viên vui vẻ 😎\n"
     ]
    }
   ],
   "source": [
    "content = ''\n",
    "\n",
    "content = '\\n'.join(para.text for para in document.paragraphs)\n",
    "print(content)"
   ]
  }
 ],
 "metadata": {
  "kernelspec": {
   "display_name": ".venv",
   "language": "python",
   "name": "python3"
  },
  "language_info": {
   "codemirror_mode": {
    "name": "ipython",
    "version": 3
   },
   "file_extension": ".py",
   "mimetype": "text/x-python",
   "name": "python",
   "nbconvert_exporter": "python",
   "pygments_lexer": "ipython3",
   "version": "3.12.8"
  }
 },
 "nbformat": 4,
 "nbformat_minor": 2
}
